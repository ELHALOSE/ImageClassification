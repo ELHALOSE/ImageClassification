{
  "nbformat": 4,
  "nbformat_minor": 0,
  "metadata": {
    "colab": {
      "provenance": []
    },
    "kernelspec": {
      "name": "python3",
      "display_name": "Python 3"
    },
    "language_info": {
      "name": "python"
    }
  },
  "cells": [
    {
      "cell_type": "code",
      "execution_count": 39,
      "metadata": {
        "id": "9Qqd18PTmZ0p"
      },
      "outputs": [],
      "source": [
        "import tensorflow as tf\n",
        "import matplotlib.pyplot as plt\n",
        "from tensorflow.keras.datasets import mnist\n",
        "import numpy as np"
      ]
    },
    {
      "cell_type": "code",
      "source": [
        "(X_train,y_train),(X_test,y_test)=mnist.load_data()"
      ],
      "metadata": {
        "id": "wnltM21NmeCk"
      },
      "execution_count": 40,
      "outputs": []
    },
    {
      "cell_type": "code",
      "source": [
        "len(X_test)"
      ],
      "metadata": {
        "colab": {
          "base_uri": "https://localhost:8080/"
        },
        "id": "ouHkhG09mfrT",
        "outputId": "40ff7e67-3360-4a40-b165-a18e53c2979c"
      },
      "execution_count": 41,
      "outputs": [
        {
          "output_type": "execute_result",
          "data": {
            "text/plain": [
              "10000"
            ]
          },
          "metadata": {},
          "execution_count": 41
        }
      ]
    },
    {
      "cell_type": "code",
      "source": [
        "# X_train[0]\n",
        "X_train[0].shape"
      ],
      "metadata": {
        "colab": {
          "base_uri": "https://localhost:8080/"
        },
        "id": "uUhdnthamjrE",
        "outputId": "2ba79f60-55b5-4426-8c21-2a8df2b4a7a2"
      },
      "execution_count": 42,
      "outputs": [
        {
          "output_type": "execute_result",
          "data": {
            "text/plain": [
              "(28, 28)"
            ]
          },
          "metadata": {},
          "execution_count": 42
        }
      ]
    },
    {
      "cell_type": "code",
      "source": [
        "for i in range(9):\n",
        "  plt.subplot(3,3,i+1)\n",
        "  plt.tight_layout()\n",
        "  plt.imshow(X_train[i],cmap='gray')\n",
        "  plt.title(\"Digit: {}\".format(y_train[i]))\n",
        "  plt.xticks([])\n",
        "  plt.yticks([])"
      ],
      "metadata": {
        "colab": {
          "base_uri": "https://localhost:8080/",
          "height": 463
        },
        "id": "rEAqrZzHmlYn",
        "outputId": "93529eec-4e32-482a-abbb-6b9f5ce0f29a"
      },
      "execution_count": 43,
      "outputs": [
        {
          "output_type": "display_data",
          "data": {
            "text/plain": [
              "<Figure size 640x480 with 9 Axes>"
            ],
            "image/png": "[encoded data removed]"
          },
          "metadata": {}
        }
      ]
    },
    {
      "cell_type": "code",
      "source": [
        "X_train=X_train.reshape(60000,784)\n",
        "X_test=X_test.reshape(10000,784)\n",
        "X_train=X_train.astype('float32')\n",
        "X_test=X_test.astype('float32')"
      ],
      "metadata": {
        "id": "8VUcM009mnHS"
      },
      "execution_count": 44,
      "outputs": []
    },
    {
      "cell_type": "code",
      "source": [
        "X_train/=255\n",
        "X_test/=255"
      ],
      "metadata": {
        "id": "f4Q_RLSVmpJv"
      },
      "execution_count": 45,
      "outputs": []
    },
    {
      "cell_type": "code",
      "source": [
        "# X_train[0]"
      ],
      "metadata": {
        "id": "ozZG09pMmrfY"
      },
      "execution_count": 70,
      "outputs": []
    },
    {
      "cell_type": "code",
      "source": [
        "n_classes=10\n",
        "print('before: {}'.format(y_train.shape))\n",
        "y_train=tf.keras.utils.to_categorical(y_train,n_classes)\n",
        "y_test=tf.keras.utils.to_categorical(y_test,n_classes)\n",
        "print('after: {} '.format(y_train.shape))"
      ],
      "metadata": {
        "colab": {
          "base_uri": "https://localhost:8080/"
        },
        "id": "V9psn6hJmtRA",
        "outputId": "111c3934-4d2b-4d0f-faf5-86829ad3c782"
      },
      "execution_count": 47,
      "outputs": [
        {
          "output_type": "stream",
          "name": "stdout",
          "text": [
            "before: (60000,)\n",
            "after: (60000, 10) \n"
          ]
        }
      ]
    },
    {
      "cell_type": "code",
      "source": [
        "from tensorflow.keras.models import Sequential\n",
        "from tensorflow.keras.layers import Dense, Dropout, Activation\n",
        "from keras.callbacks import EarlyStopping"
      ],
      "metadata": {
        "id": "TJG_LSE4mu16"
      },
      "execution_count": 52,
      "outputs": []
    },
    {
      "cell_type": "code",
      "source": [
        "model=Sequential()\n",
        "model.add(Dense(512,input_shape=(784,)))\n",
        "model.add(Activation('relu'))\n",
        "model.add(Dropout(0.2))\n",
        "\n",
        "model.add(Dense(512))\n",
        "model.add(Activation('relu'))\n",
        "model.add(Dropout(0.2))\n",
        "\n",
        "model.add(Dense(10))\n",
        "model.add(Activation('softmax'))"
      ],
      "metadata": {
        "id": "RTWAUEQBmwdU"
      },
      "execution_count": 49,
      "outputs": []
    },
    {
      "cell_type": "code",
      "source": [
        "model.compile(loss='categorical_crossentropy',metrics=['accuracy'],optimizer='adam')"
      ],
      "metadata": {
        "id": "vPsK4pyEmyID"
      },
      "execution_count": 50,
      "outputs": []
    },
    {
      "cell_type": "code",
      "source": [
        "early_stopping = EarlyStopping(monitor='val_loss', patience=5)\n",
        "\n",
        "history=model.fit(X_train,y_train,\n",
        "                  batch_size=128,epochs=20,\n",
        "                  verbose=2,\n",
        "                  validation_data=(X_test,y_test), callbacks=[early_stopping])"
      ],
      "metadata": {
        "colab": {
          "base_uri": "https://localhost:8080/"
        },
        "id": "FI1MaR4EmzlM",
        "outputId": "6ce20e3f-243f-4ef9-a949-bc75de79a5ad"
      },
      "execution_count": 54,
      "outputs": [
        {
          "output_type": "stream",
          "name": "stdout",
          "text": [
            "Epoch 1/20\n",
            "469/469 - 10s - loss: 0.2461 - accuracy: 0.9261 - val_loss: 0.1072 - val_accuracy: 0.9676 - 10s/epoch - 22ms/step\n",
            "Epoch 2/20\n",
            "469/469 - 8s - loss: 0.0996 - accuracy: 0.9689 - val_loss: 0.0815 - val_accuracy: 0.9744 - 8s/epoch - 18ms/step\n",
            "Epoch 3/20\n",
            "469/469 - 10s - loss: 0.0718 - accuracy: 0.9771 - val_loss: 0.0665 - val_accuracy: 0.9795 - 10s/epoch - 21ms/step\n",
            "Epoch 4/20\n",
            "469/469 - 9s - loss: 0.0570 - accuracy: 0.9814 - val_loss: 0.0735 - val_accuracy: 0.9780 - 9s/epoch - 20ms/step\n",
            "Epoch 5/20\n",
            "469/469 - 9s - loss: 0.0450 - accuracy: 0.9852 - val_loss: 0.0636 - val_accuracy: 0.9803 - 9s/epoch - 19ms/step\n",
            "Epoch 6/20\n",
            "469/469 - 8s - loss: 0.0382 - accuracy: 0.9876 - val_loss: 0.0699 - val_accuracy: 0.9795 - 8s/epoch - 17ms/step\n",
            "Epoch 7/20\n",
            "469/469 - 9s - loss: 0.0339 - accuracy: 0.9883 - val_loss: 0.0716 - val_accuracy: 0.9796 - 9s/epoch - 19ms/step\n",
            "Epoch 8/20\n",
            "469/469 - 9s - loss: 0.0297 - accuracy: 0.9901 - val_loss: 0.0726 - val_accuracy: 0.9816 - 9s/epoch - 19ms/step\n",
            "Epoch 9/20\n",
            "469/469 - 8s - loss: 0.0285 - accuracy: 0.9904 - val_loss: 0.0665 - val_accuracy: 0.9816 - 8s/epoch - 17ms/step\n",
            "Epoch 10/20\n",
            "469/469 - 9s - loss: 0.0273 - accuracy: 0.9909 - val_loss: 0.0742 - val_accuracy: 0.9809 - 9s/epoch - 19ms/step\n"
          ]
        }
      ]
    },
    {
      "cell_type": "code",
      "source": [
        "plt.plot(history.history['accuracy'])\n",
        "plt.plot(history.history['val_accuracy'])\n",
        "plt.xlabel(\"Epochs\")\n",
        "plt.ylabel(\"Accuracy\")\n",
        "plt.legend(['train','test'],loc='lower right')\n",
        "plt.tight_layout()"
      ],
      "metadata": {
        "colab": {
          "base_uri": "https://localhost:8080/",
          "height": 486
        },
        "id": "Uc-2Igh5m1RZ",
        "outputId": "850d2775-4418-4a63-efbe-1dcf0536497b"
      },
      "execution_count": 55,
      "outputs": [
        {
          "output_type": "display_data",
          "data": {
            "text/plain": [
              "<Figure size 640x480 with 1 Axes>"
            ],
            "image/png": "[encoded data removed]"
          },
          "metadata": {}
        }
      ]
    },
    {
      "cell_type": "code",
      "source": [
        "loss_and_accuracy=model.evaluate(X_test,y_test)\n",
        "print(\"Test Loss\",loss_and_accuracy[0])\n",
        "print(\"Test Accuracy\",loss_and_accuracy[1])"
      ],
      "metadata": {
        "colab": {
          "base_uri": "https://localhost:8080/"
        },
        "id": "L5ANjcq2nxZv",
        "outputId": "7c9790fa-b34d-4cf8-bfad-d7c5b1bc7a75"
      },
      "execution_count": 68,
      "outputs": [
        {
          "output_type": "stream",
          "name": "stdout",
          "text": [
            "313/313 [==============================] - 1s 4ms/step - loss: 0.0742 - accuracy: 0.9809\n",
            "Test Loss 0.07420440763235092\n",
            "Test Accuracy 0.98089998960495\n"
          ]
        }
      ]
    },
    {
      "cell_type": "code",
      "source": [],
      "metadata": {
        "id": "bpqCh22uoIFk"
      },
      "execution_count": null,
      "outputs": []
    }
  ]
}